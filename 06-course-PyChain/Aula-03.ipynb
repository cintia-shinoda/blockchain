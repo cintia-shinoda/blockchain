{
 "cells": [
  {
   "cell_type": "markdown",
   "metadata": {},
   "source": [
    "# Aula 3"
   ]
  },
  {
   "cell_type": "markdown",
   "metadata": {},
   "source": [
    "## Otimizações em Minerações"
   ]
  },
  {
   "cell_type": "markdown",
   "metadata": {},
   "source": []
  },
  {
   "cell_type": "markdown",
   "metadata": {},
   "source": [
    "## Participantes do meio Cripto"
   ]
  },
  {
   "cell_type": "markdown",
   "metadata": {},
   "source": [
    "- Mineradores\n",
    "- Exchanges\n"
   ]
  },
  {
   "cell_type": "markdown",
   "metadata": {},
   "source": [
    "## Halving"
   ]
  },
  {
   "cell_type": "markdown",
   "metadata": {},
   "source": [
    "\n",
    "| # | Data |  |\n",
    "|:---:|:---:|:---|\n",
    "| 01 | 28 de Novembro de 2012 | para 25 BTC |\n",
    "| 02 | 9 de Julho de 2016 | para 12.5 BTC |\n",
    "| 03 | 11 de Maio de 2020 | para 6.25 BTC |\n",
    "| 04 | 19 de Abril de 2024 | para 3.125 BTC |\n",
    "| 05 | Meados de 2028 | para 1.5625 BTC |"
   ]
  },
  {
   "cell_type": "markdown",
   "metadata": {},
   "source": [
    "## Protocolo anti-*Double Spending*"
   ]
  },
  {
   "cell_type": "markdown",
   "metadata": {},
   "source": []
  }
 ],
 "metadata": {
  "language_info": {
   "name": "python"
  }
 },
 "nbformat": 4,
 "nbformat_minor": 2
}
