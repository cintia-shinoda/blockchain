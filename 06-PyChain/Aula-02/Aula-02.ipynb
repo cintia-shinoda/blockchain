{
 "cells": [
  {
   "cell_type": "markdown",
   "metadata": {},
   "source": [
    "# Aula 02 - Protocolo de Mineração"
   ]
  },
  {
   "cell_type": "markdown",
   "metadata": {},
   "source": [
    "Bloco = 1024\n",
    "1. Versão: 32 bits\n",
    "2. Hash do bloco anterior: 256 bits\n",
    "3. Hash da Raiz Merkle: 256 bits\n",
    "4. Timestamp: 32 bits\n",
    "5. Target: 32 bits\n",
    "6. Nonce: 32 bits\n",
    "7. Padding: preenchido por zeros\n",
    "8. Length:  "
   ]
  },
  {
   "cell_type": "markdown",
   "metadata": {},
   "source": []
  },
  {
   "cell_type": "markdown",
   "metadata": {},
   "source": [
    "- Criação de Ambiente Virtual: venv_cbp\n",
    "- Instalação das bibliotecas: streamlit e ipykernel"
   ]
  }
 ],
 "metadata": {
  "kernelspec": {
   "display_name": "Python 3",
   "language": "python",
   "name": "python3"
  },
  "language_info": {
   "name": "python",
   "version": "3.13.0"
  }
 },
 "nbformat": 4,
 "nbformat_minor": 2
}
