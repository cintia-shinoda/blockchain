{
 "cells": [
  {
   "cell_type": "code",
   "execution_count": 2,
   "metadata": {},
   "outputs": [
    {
     "name": "stdout",
     "output_type": "stream",
     "text": [
      "abc\n"
     ]
    }
   ],
   "source": [
    "mensagem = \"abc\"\n",
    "print(mensagem)"
   ]
  },
  {
   "cell_type": "code",
   "execution_count": 3,
   "metadata": {},
   "outputs": [
    {
     "data": {
      "text/plain": [
       "97"
      ]
     },
     "execution_count": 3,
     "metadata": {},
     "output_type": "execute_result"
    }
   ],
   "source": [
    "# ord() retorna o valor ASCII de um caractere\n",
    "ord('a')"
   ]
  },
  {
   "cell_type": "code",
   "execution_count": 4,
   "metadata": {},
   "outputs": [
    {
     "data": {
      "text/plain": [
       "'1100001'"
      ]
     },
     "execution_count": 4,
     "metadata": {},
     "output_type": "execute_result"
    }
   ],
   "source": [
    "# conversão para binário\n",
    "f\"{97:b}\""
   ]
  },
  {
   "cell_type": "code",
   "execution_count": 4,
   "metadata": {},
   "outputs": [
    {
     "data": {
      "text/plain": [
       "' 1100001'"
      ]
     },
     "execution_count": 4,
     "metadata": {},
     "output_type": "execute_result"
    }
   ],
   "source": [
    "# conversão para octal\n",
    "f\"{97:8b}\""
   ]
  },
  {
   "cell_type": "code",
   "execution_count": 5,
   "metadata": {},
   "outputs": [
    {
     "data": {
      "text/plain": [
       "'01100001'"
      ]
     },
     "execution_count": 5,
     "metadata": {},
     "output_type": "execute_result"
    }
   ],
   "source": [
    "# \n",
    "f'{ord('a'):08b}'"
   ]
  },
  {
   "cell_type": "code",
   "execution_count": 6,
   "metadata": {},
   "outputs": [
    {
     "name": "stdout",
     "output_type": "stream",
     "text": [
      "011000010110001001100011\n"
     ]
    }
   ],
   "source": [
    "mensagem_binario = \"\"\n",
    "for letra in mensagem:\n",
    "    # print(letra, f\"{ord(letra):08b}\")\n",
    "    mensagem_binario += f\"{ord(letra):08b}\"\n",
    "print(mensagem_binario)"
   ]
  },
  {
   "cell_type": "code",
   "execution_count": 7,
   "metadata": {},
   "outputs": [
    {
     "name": "stdout",
     "output_type": "stream",
     "text": [
      "0110000101100010011000111\n"
     ]
    }
   ],
   "source": [
    "mensagem_binario += \"1\"\n",
    "print(mensagem_binario)"
   ]
  },
  {
   "cell_type": "code",
   "execution_count": 8,
   "metadata": {},
   "outputs": [],
   "source": [
    "import numpy as np"
   ]
  },
  {
   "cell_type": "code",
   "execution_count": 9,
   "metadata": {},
   "outputs": [
    {
     "name": "stdout",
     "output_type": "stream",
     "text": [
      "3\n"
     ]
    }
   ],
   "source": [
    "nc = len(mensagem)\n",
    "print(nc)"
   ]
  },
  {
   "cell_type": "code",
   "execution_count": 10,
   "metadata": {},
   "outputs": [
    {
     "name": "stdout",
     "output_type": "stream",
     "text": [
      "1\n"
     ]
    }
   ],
   "source": [
    "# nb = número de blocos\n",
    "\n",
    "nb = int(np.ceil(0.015625 * nc + 0.140625))\n",
    "print(nb)"
   ]
  },
  {
   "cell_type": "code",
   "execution_count": 11,
   "metadata": {},
   "outputs": [
    {
     "name": "stdout",
     "output_type": "stream",
     "text": [
      "423\n"
     ]
    }
   ],
   "source": [
    "# \n",
    "\n",
    "k = (512 * nb - 64) % (512 * nb) - 8 * nc - 1\n",
    "print(k)"
   ]
  },
  {
   "cell_type": "code",
   "execution_count": 12,
   "metadata": {},
   "outputs": [
    {
     "data": {
      "text/plain": [
       "'000000000000000000000000000000000000000000000000000000000000000000000000000000000000000000000000000000000000000000000000000000000000000000000000000000000000000000000000000000000000000000000000000000000000000000000000000000000000000000000000000000000000000000000000000000000000000000000000000000000000000000000000000000000000000000000000000000000000000000000000000000000000000000000000000000000000000000000000000000000000000'"
      ]
     },
     "execution_count": 12,
     "metadata": {},
     "output_type": "execute_result"
    }
   ],
   "source": [
    "\"0\" * k"
   ]
  },
  {
   "cell_type": "code",
   "execution_count": 13,
   "metadata": {},
   "outputs": [
    {
     "name": "stdout",
     "output_type": "stream",
     "text": [
      "0110000101100010011000111000000000000000000000000000000000000000000000000000000000000000000000000000000000000000000000000000000000000000000000000000000000000000000000000000000000000000000000000000000000000000000000000000000000000000000000000000000000000000000000000000000000000000000000000000000000000000000000000000000000000000000000000000000000000000000000000000000000000000000000000000000000000000000000000000000000000000000000000000000000000000\n"
     ]
    }
   ],
   "source": [
    "mensagem_binario += \"0\" * k\n",
    "print(mensagem_binario)"
   ]
  },
  {
   "cell_type": "code",
   "execution_count": 14,
   "metadata": {},
   "outputs": [
    {
     "name": "stdout",
     "output_type": "stream",
     "text": [
      "448\n"
     ]
    }
   ],
   "source": [
    "#  \n",
    "\n",
    "print(len(mensagem_binario))"
   ]
  },
  {
   "cell_type": "code",
   "execution_count": 15,
   "metadata": {},
   "outputs": [
    {
     "name": "stdout",
     "output_type": "stream",
     "text": [
      "01100001011000100110001110000000000000000000000000000000000000000000000000000000000000000000000000000000000000000000000000000000000000000000000000000000000000000000000000000000000000000000000000000000000000000000000000000000000000000000000000000000000000000000000000000000000000000000000000000000000000000000000000000000000000000000000000000000000000000000000000000000000000000000000000000000000000000000000000000000000000000000000000000000000000000000000000000000000000000000000000000000000000000000000000011000\n"
     ]
    }
   ],
   "source": [
    "# \n",
    "\n",
    "mensagem_binario += f\"{nc * 8:064b}\"\n",
    "print(mensagem_binario)"
   ]
  },
  {
   "cell_type": "code",
   "execution_count": 16,
   "metadata": {},
   "outputs": [
    {
     "name": "stdout",
     "output_type": "stream",
     "text": [
      "512\n"
     ]
    }
   ],
   "source": [
    "print(len(mensagem_binario))"
   ]
  },
  {
   "cell_type": "code",
   "execution_count": 17,
   "metadata": {},
   "outputs": [],
   "source": [
    "#\n",
    "\n",
    "def mensagem_para_binario(mensagem):\n",
    "    \n",
    "    mensagem_binario = \"\"\n",
    "    for letra in mensagem:\n",
    "        mensagem_binario += f\"{ord(letra):08b}\"\n",
    "\n",
    "    mensagem_binario += \"1\"\n",
    "\n",
    "    nc = len(mensagem)\n",
    "    nb = int(np.ceil(0.015625 * nc + 0.140625))\n",
    "    k = (512 * nb - 64) % (512 * nb) - 8 * nc - 1\n",
    "\n",
    "    mensagem_binario += \"0\" * k\n",
    "\n",
    "    mensagem_binario += f\"{nc * 8:064b}\"\n",
    "\n",
    "    return mensagem_binario, nb"
   ]
  },
  {
   "cell_type": "code",
   "execution_count": 18,
   "metadata": {},
   "outputs": [
    {
     "name": "stdout",
     "output_type": "stream",
     "text": [
      "512 01100001011000100110001110000000000000000000000000000000000000000000000000000000000000000000000000000000000000000000000000000000000000000000000000000000000000000000000000000000000000000000000000000000000000000000000000000000000000000000000000000000000000000000000000000000000000000000000000000000000000000000000000000000000000000000000000000000000000000000000000000000000000000000000000000000000000000000000000000000000000000000000000000000000000000000000000000000000000000000000000000000000000000000000000011000\n"
     ]
    }
   ],
   "source": [
    "\n",
    "mensagem_binario, nb = mensagem_para_binario(mensagem)\n",
    "print(len(mensagem_binario), mensagem_binario)"
   ]
  },
  {
   "cell_type": "code",
   "execution_count": 19,
   "metadata": {},
   "outputs": [
    {
     "data": {
      "text/plain": [
       "array([[0, 0, 0, 0, 0, 0, 0, 0, 0, 0, 0, 0, 0, 0, 0, 0],\n",
       "       [0, 0, 0, 0, 0, 0, 0, 0, 0, 0, 0, 0, 0, 0, 0, 0]])"
      ]
     },
     "execution_count": 19,
     "metadata": {},
     "output_type": "execute_result"
    }
   ],
   "source": [
    "np.zeros(shape=(2,16), dtype=int)"
   ]
  },
  {
   "cell_type": "code",
   "execution_count": 20,
   "metadata": {},
   "outputs": [
    {
     "data": {
      "text/plain": [
       "array([[0, 0, 0, 0, 0, 0, 0, 0, 0, 0, 0, 0, 0, 0, 0, 0],\n",
       "       [0, 0, 0, 0, 0, 0, 0, 0, 0, 0, 0, 0, 0, 0, 0, 0],\n",
       "       [0, 0, 0, 0, 0, 0, 0, 0, 0, 0, 0, 0, 0, 0, 0, 0]])"
      ]
     },
     "execution_count": 20,
     "metadata": {},
     "output_type": "execute_result"
    }
   ],
   "source": [
    "np.zeros(shape=(3,16), dtype=int)"
   ]
  },
  {
   "cell_type": "code",
   "execution_count": 21,
   "metadata": {},
   "outputs": [
    {
     "data": {
      "text/plain": [
       "array([[0, 0, 0, 0, 0, 0, 0, 0, 0, 0, 0, 0, 0, 0, 0, 0, 0, 0, 0, 0, 0, 0,\n",
       "        0, 0, 0, 0, 0, 0, 0, 0, 0, 0, 0, 0, 0, 0, 0, 0, 0, 0, 0, 0, 0, 0,\n",
       "        0, 0, 0, 0, 0, 0, 0, 0, 0, 0, 0, 0, 0, 0, 0, 0, 0, 0, 0, 0]])"
      ]
     },
     "execution_count": 21,
     "metadata": {},
     "output_type": "execute_result"
    }
   ],
   "source": [
    "words = np.zeros(shape=(nb, 64), dtype=int)\n",
    "words"
   ]
  },
  {
   "cell_type": "code",
   "execution_count": 22,
   "metadata": {},
   "outputs": [
    {
     "data": {
      "text/plain": [
       "(1, 64)"
      ]
     },
     "execution_count": 22,
     "metadata": {},
     "output_type": "execute_result"
    }
   ],
   "source": [
    "words.shape"
   ]
  },
  {
   "cell_type": "code",
   "execution_count": 23,
   "metadata": {},
   "outputs": [
    {
     "data": {
      "text/plain": [
       "16.0"
      ]
     },
     "execution_count": 23,
     "metadata": {},
     "output_type": "execute_result"
    }
   ],
   "source": [
    "512 / 32"
   ]
  },
  {
   "cell_type": "code",
   "execution_count": 24,
   "metadata": {},
   "outputs": [
    {
     "data": {
      "text/plain": [
       "'01100001011000100110001110000000'"
      ]
     },
     "execution_count": 24,
     "metadata": {},
     "output_type": "execute_result"
    }
   ],
   "source": [
    "mensagem_binario[0:32]"
   ]
  },
  {
   "cell_type": "code",
   "execution_count": 25,
   "metadata": {},
   "outputs": [
    {
     "data": {
      "text/plain": [
       "'00000000000000000000000000000000'"
      ]
     },
     "execution_count": 25,
     "metadata": {},
     "output_type": "execute_result"
    }
   ],
   "source": [
    "mensagem_binario[32:64]"
   ]
  },
  {
   "cell_type": "code",
   "execution_count": 26,
   "metadata": {},
   "outputs": [
    {
     "data": {
      "text/plain": [
       "'00000000000000000000000000000000'"
      ]
     },
     "execution_count": 26,
     "metadata": {},
     "output_type": "execute_result"
    }
   ],
   "source": [
    "mensagem_binario[64:96]"
   ]
  },
  {
   "cell_type": "code",
   "execution_count": 27,
   "metadata": {},
   "outputs": [],
   "source": [
    "passo = 32\n",
    "\n",
    "for indice_bloco in range(nb):\n",
    "    binario_bloco = mensagem_binario[indice_bloco * 512:\n",
    "                                     (indice_bloco + 1) * 512]\n",
    "    i = 0\n",
    "    j = i + passo\n",
    "    k = 0\n",
    "    while j <= 512:\n",
    "        # print(k, i, j)\n",
    "        # display(binario_bloco[i:j])\n",
    "        # display(int(binario_bloco[i:j], 2))\n",
    "        words[indice_bloco, k] = (int(binario_bloco[i:j], 2))\n",
    "\n",
    "        i = j\n",
    "        j = i + passo\n",
    "        k += 1"
   ]
  },
  {
   "cell_type": "code",
   "execution_count": 28,
   "metadata": {},
   "outputs": [
    {
     "name": "stdout",
     "output_type": "stream",
     "text": [
      "[[1633837952          0          0          0          0          0\n",
      "           0          0          0          0          0          0\n",
      "           0          0          0         24          0          0\n",
      "           0          0          0          0          0          0\n",
      "           0          0          0          0          0          0\n",
      "           0          0          0          0          0          0\n",
      "           0          0          0          0          0          0\n",
      "           0          0          0          0          0          0\n",
      "           0          0          0          0          0          0\n",
      "           0          0          0          0          0          0\n",
      "           0          0          0          0]]\n"
     ]
    }
   ],
   "source": [
    "print(words)"
   ]
  },
  {
   "cell_type": "code",
   "execution_count": 29,
   "metadata": {},
   "outputs": [],
   "source": [
    "def right_shift(x, n):\n",
    "    return (x >> n)"
   ]
  },
  {
   "cell_type": "code",
   "execution_count": 30,
   "metadata": {},
   "outputs": [],
   "source": [
    "def right_rotate(x, n):\n",
    "    return x >> n | x << (32 - n)"
   ]
  },
  {
   "cell_type": "code",
   "execution_count": 31,
   "metadata": {},
   "outputs": [],
   "source": [
    "def sigma_zero(word):\n",
    "    return right_rotate(word, 7) ^ right_rotate(word, 18) ^ right_shift(word, 3)"
   ]
  },
  {
   "cell_type": "code",
   "execution_count": 32,
   "metadata": {},
   "outputs": [],
   "source": [
    "def sigma_um(word):\n",
    "    return right_rotate(word, 17) ^ right_rotate(word, 19) ^ right_shift(word, 10)"
   ]
  },
  {
   "cell_type": "code",
   "execution_count": 33,
   "metadata": {},
   "outputs": [
    {
     "data": {
      "text/plain": [
       "array([[1633837952,          0,          0,          0,          0,\n",
       "                 0,          0,          0,          0,          0,\n",
       "                 0,          0,          0,          0,          0,\n",
       "                24, 1633837952,     983040, 2108187653, 1610613702,\n",
       "        1050508152,   25426944,  316456923, 3806512014, 3357629466,\n",
       "        3073800610, 3854317833,  845560923, 2636160359, 3968280267,\n",
       "        1881225380, 3552024379, 2482346367,  996719219, 2952069057,\n",
       "        4043988066,  176896406, 1924104970, 2483675966,  610538786,\n",
       "        2672279444, 4037431130, 1042573945,  657669027,  206005234,\n",
       "        2215296807, 2049510749,  106709978, 4215179723, 3430291419,\n",
       "        3118885940, 2845390439, 2226839261, 3256115900,  344409900,\n",
       "        2987358873, 4015503821, 3957764664, 2682456414, 2025622859,\n",
       "        2755645205, 1720397816, 4004225740,  313650667]])"
      ]
     },
     "metadata": {},
     "output_type": "display_data"
    }
   ],
   "source": [
    "for indice_bloco in range(nb):\n",
    "    # print(indice_bloco)\n",
    "    for indice_word in range(16, 64):\n",
    "        # print(indice_word)\n",
    "        w1 = words[indice_bloco, indice_word - 2]\n",
    "        w2 = words[indice_bloco, indice_word - 7]\n",
    "        w3 = words[indice_bloco, indice_word - 15]\n",
    "        w4 = words[indice_bloco, indice_word - 16]\n",
    "\n",
    "        soma_final = (sigma_um(w1) + w2 + sigma_zero(w3) + w4) % 2**32\n",
    "        words[indice_bloco, indice_word] = soma_final\n",
    "\n",
    "display(words)"
   ]
  },
  {
   "cell_type": "code",
   "execution_count": 34,
   "metadata": {},
   "outputs": [
    {
     "name": "stdout",
     "output_type": "stream",
     "text": [
      "61626380\n",
      "00000000\n",
      "00000000\n",
      "00000000\n",
      "00000000\n",
      "00000000\n",
      "00000000\n",
      "00000000\n",
      "00000000\n",
      "00000000\n",
      "00000000\n",
      "00000000\n",
      "00000000\n",
      "00000000\n",
      "00000000\n",
      "00000018\n",
      "61626380\n",
      "000f0000\n",
      "7da86405\n",
      "600003c6\n",
      "3e9d7b78\n",
      "0183fc00\n",
      "12dcbfdb\n",
      "e2e2c38e\n",
      "c8215c1a\n",
      "b73679a2\n",
      "e5bc3909\n",
      "32663c5b\n",
      "9d209d67\n",
      "ec8726cb\n",
      "702138a4\n",
      "d3b7973b\n",
      "93f5997f\n",
      "3b68ba73\n",
      "aff4ffc1\n",
      "f10a5c62\n",
      "0a8b3996\n",
      "72af830a\n",
      "9409e33e\n",
      "24641522\n",
      "9f47bf94\n",
      "f0a64f5a\n",
      "3e246a79\n",
      "27333ba3\n",
      "0c4763f2\n",
      "840abf27\n",
      "7a290d5d\n",
      "065c43da\n",
      "fb3e89cb\n",
      "cc7617db\n",
      "b9e66c34\n",
      "a9993667\n",
      "84badedd\n",
      "c21462bc\n",
      "1487472c\n",
      "b20f7a99\n",
      "ef57b9cd\n",
      "ebe6b238\n",
      "9fe3095e\n",
      "78bc8d4b\n",
      "a43fcf15\n",
      "668b2ff8\n",
      "eeaba2cc\n",
      "12b1edeb\n"
     ]
    }
   ],
   "source": [
    "for indice_bloco in range(nb):\n",
    "    for indice_word in range(0, 64):\n",
    "        print(f\"{words[indice_bloco, indice_word]:08x}\")"
   ]
  },
  {
   "cell_type": "code",
   "execution_count": 35,
   "metadata": {},
   "outputs": [],
   "source": [
    "\n",
    "def gerar_words(mensagem_binario, nb):\n",
    "    words = np.zeros(shape=(nb, 64), dtype=int)\n",
    "\n",
    "    passo = 32\n",
    "    for indice_bloco in range(nb):\n",
    "        binario_bloco = mensagem_binario[indice_bloco * 512:\n",
    "                                        (indice_bloco + 1) * 512]\n",
    "        i = 0\n",
    "        j = i + passo\n",
    "        k = 0\n",
    "        while j <= 512:\n",
    "            words[indice_bloco, k] = int(binario_bloco[i:j], 2)\n",
    "\n",
    "            i = j\n",
    "            j = i + passo\n",
    "            k += 1\n",
    "    \n",
    "\n",
    "    for indice_bloco in range(nb):\n",
    "        for indice_word in range(16, 64):\n",
    "            w1 = words[indice_bloco, indice_word - 2]\n",
    "            w2 = words[indice_bloco, indice_word - 7]\n",
    "            w3 = words[indice_bloco, indice_word - 15]\n",
    "            w4 = words[indice_bloco, indice_word - 16]\n",
    "\n",
    "            soma_final = (sigma_um(w1) + w2 + sigma_zero(w3) + w4) % 2 ** 32\n",
    "            words[indice_bloco, indice_word] = soma_final\n",
    "\n",
    "    return words"
   ]
  },
  {
   "cell_type": "code",
   "execution_count": 36,
   "metadata": {},
   "outputs": [
    {
     "data": {
      "text/plain": [
       "array([[1633837924, 1650680933, 1667523942, 1684366951, 1701209960,\n",
       "        1718052969, 1734895978, 1751738987, 1768581996, 1785425005,\n",
       "        1802268014, 1819111023, 1835954032, 1852797041, 2147483648,\n",
       "                 0, 3951039149, 2814619282, 1994996642, 3124946755,\n",
       "        2460557828, 3628590942, 2652241974, 2994776011, 3723171094,\n",
       "        4083517172, 2526859336, 3914979741, 1791803628, 4115443864,\n",
       "         720483034, 3998860489, 2822103402,  503268393, 3605092697,\n",
       "        3281505646, 1863844298,  559366661,  905935492, 2537811576,\n",
       "        3829498855,  218755085, 2626269012,   70081519, 1911633104,\n",
       "         261420131, 2118769763, 1868941719,  191915395,  395514570,\n",
       "        1345344745, 3121765433, 2123600585, 3586894366, 2027968605,\n",
       "        4142358812, 2328375502, 2336727811, 4251869823, 2356030570,\n",
       "        1073851889,  440258711, 2849992546, 1789266489],\n",
       "       [         0,          0,          0,          0,          0,\n",
       "                 0,          0,          0,          0,          0,\n",
       "                 0,          0,          0,          0,          0,\n",
       "               448,          0,   14155776,          0,      13943,\n",
       "                 0,  502620173,        448,  469782556,   28311552,\n",
       "         571116948,      41829,  393222119, 1674805301,  151697171,\n",
       "        1282750922,  253339849, 1576317124, 3797353322, 3380328177,\n",
       "        3316936525, 4163189838, 2774061449, 2020172421, 3976663423,\n",
       "         275994870,  957015190, 1448087714, 3307044164, 2658453874,\n",
       "        1712633185,  821826205, 2596701352,  728075709, 3801151379,\n",
       "        2666246732, 2534651358, 1090919095, 3760382523,  124913566,\n",
       "        2111974812, 3367516024, 1973917769, 3644702171,  167996573,\n",
       "        3410979526, 2185205730, 3928959610, 3103886162]])"
      ]
     },
     "metadata": {},
     "output_type": "display_data"
    }
   ],
   "source": [
    "mensagem = \"abcdbcdecdefdefgefghfghighijhijkijkljklmklmnlmnomnopnopq\"\n",
    "nc = len(mensagem)\n",
    "mensagem_binario, nb = mensagem_para_binario(mensagem)\n",
    "words = gerar_words(mensagem_binario, nb)\n",
    "display(words)"
   ]
  },
  {
   "cell_type": "code",
   "execution_count": 37,
   "metadata": {},
   "outputs": [],
   "source": [
    "from sympy import primerange"
   ]
  },
  {
   "cell_type": "code",
   "execution_count": 38,
   "metadata": {},
   "outputs": [
    {
     "name": "stdout",
     "output_type": "stream",
     "text": [
      "64 primeiros primos: \n",
      " [  2   3   5   7  11  13  17  19  23  29  31  37  41  43  47  53  59  61\n",
      "  67  71  73  79  83  89  97 101 103 107 109 113 127 131 137 139 149 151\n",
      " 157 163 167 173 179 181 191 193 197 199 211 223 227 229 233 239 241 251\n",
      " 257 263 269 271 277 281 283 293 307 311]\n"
     ]
    }
   ],
   "source": [
    "primos = np.array(list(primerange(1, 1000))[:64], dtype=int)\n",
    "print(f\"{len(primos)} primeiros primos: \\n\", primos)"
   ]
  },
  {
   "cell_type": "code",
   "execution_count": 39,
   "metadata": {},
   "outputs": [],
   "source": [
    "constantes_h = []\n",
    "constantes_k = []\n",
    "\n",
    "for i, primo in enumerate(primos):\n",
    "    parte_um = np.sqrt(primo) - int(np.sqrt(primo))\n",
    "    parte_dois = parte_um * 2 ** 32\n",
    "    parte_tres = int(parte_dois)\n",
    "\n",
    "    if i < 8:\n",
    "        # print(f\"{parte_tres:08x}\")\n",
    "        constantes_h.append(parte_tres)\n",
    "        # continue\n",
    "\n",
    "    # break\n",
    "\n",
    "    parte_um = np.cbrt(primo) - int(np.cbrt(primo))\n",
    "    parte_dois = parte_um * 2 ** 32\n",
    "    parte_tres = int(parte_dois)\n",
    "    constantes_k.append(parte_tres)\n",
    "\n",
    "    "
   ]
  },
  {
   "cell_type": "code",
   "execution_count": 40,
   "metadata": {},
   "outputs": [
    {
     "name": "stdout",
     "output_type": "stream",
     "text": [
      "1779033703\n",
      "3144134277\n",
      "1013904242\n",
      "2773480762\n",
      "1359893119\n",
      "2600822924\n",
      "528734635\n",
      "1541459225\n"
     ]
    }
   ],
   "source": [
    "print(*constantes_h, sep=\"\\n\")"
   ]
  },
  {
   "cell_type": "code",
   "execution_count": 41,
   "metadata": {},
   "outputs": [
    {
     "name": "stdout",
     "output_type": "stream",
     "text": [
      "1116352408\n",
      "1899447441\n",
      "3049323471\n",
      "3921009573\n",
      "961987163\n",
      "1508970993\n",
      "2453635748\n",
      "2870763221\n",
      "3624381080\n",
      "310598401\n",
      "607225278\n",
      "1426881987\n",
      "1925078388\n",
      "2162078206\n",
      "2614888103\n",
      "3248222580\n",
      "3835390401\n",
      "4022224774\n",
      "264347078\n",
      "604807628\n",
      "770255983\n",
      "1249150122\n",
      "1555081692\n",
      "1996064986\n",
      "2554220882\n",
      "2821834349\n",
      "2952996808\n",
      "3210313671\n",
      "3336571891\n",
      "3584528711\n",
      "113926993\n",
      "338241895\n",
      "666307205\n",
      "773529912\n",
      "1294757372\n",
      "1396182291\n",
      "1695183700\n",
      "1986661051\n",
      "2177026350\n",
      "2456956037\n",
      "2730485921\n",
      "2820302411\n",
      "3259730800\n",
      "3345764771\n",
      "3516065817\n",
      "3600352804\n",
      "4094571909\n",
      "275423344\n",
      "430227734\n",
      "506948616\n",
      "659060556\n",
      "883997877\n",
      "958139571\n",
      "1322822218\n",
      "1537002063\n",
      "1747873779\n",
      "1955562222\n",
      "2024104815\n",
      "2227730452\n",
      "2361852424\n",
      "2428436474\n",
      "2756734187\n",
      "3204031479\n",
      "3329325298\n"
     ]
    }
   ],
   "source": [
    "print(*constantes_k, sep=\"\\n\")"
   ]
  },
  {
   "cell_type": "code",
   "execution_count": 42,
   "metadata": {},
   "outputs": [],
   "source": [
    "def funcao_ch(x, y, z):\n",
    "    return (x & y) ^ (~x & z)\n",
    "\n",
    "def funcao_maj(x, y, z):\n",
    "    return (x & y) ^ (x & z) ^ (y & z)\n",
    "\n",
    "def funcao_s0(x):\n",
    "    return right_rotate(x, 2) ^ right_rotate(x, 13) ^ right_rotate(x, 22)\n",
    "\n",
    "def funcao_s1(x):\n",
    "    return right_rotate(x, 6) ^ right_rotate(x, 11) ^ right_rotate(x, 25)"
   ]
  },
  {
   "cell_type": "code",
   "execution_count": 43,
   "metadata": {},
   "outputs": [
    {
     "data": {
      "text/plain": [
       "[np.int64(613247585),\n",
       " np.int64(3523623096),\n",
       " np.int64(3854575251),\n",
       " np.int64(205414457),\n",
       " np.int64(2738676825),\n",
       " np.int64(1694441831),\n",
       " np.int64(4142722516),\n",
       " np.int64(433784513)]"
      ]
     },
     "metadata": {},
     "output_type": "display_data"
    }
   ],
   "source": [
    "for i in range(nb):\n",
    "    a = constantes_h[0]\n",
    "    b = constantes_h[1]\n",
    "    c = constantes_h[2]\n",
    "    d = constantes_h[3]\n",
    "    e = constantes_h[4]\n",
    "    f = constantes_h[5]\n",
    "    g = constantes_h[6]\n",
    "    h = constantes_h[7]\n",
    "\n",
    "    for j in range(64):\n",
    "        ch = funcao_ch(e, f, g)\n",
    "        maj = funcao_maj(a, b, c)\n",
    "        s0 = funcao_s0(a)\n",
    "        s1 = funcao_s1(e)\n",
    "\n",
    "        t1 = (h + s1 + ch + constantes_k[j] + words[i, j]) % 2 ** 32\n",
    "        t2 = (s0 + maj) % 2 ** 32\n",
    "\n",
    "        h = g\n",
    "        g = f\n",
    "        f = e\n",
    "        e = (d + t1) % 2 ** 32\n",
    "        d = c\n",
    "        c = b\n",
    "        b = a\n",
    "        a = (t1 + t2) % 2 ** 32\n",
    "\n",
    "    constantes_h[0] = (constantes_h[0] + a) % 2 ** 32\n",
    "    constantes_h[1] = (constantes_h[1] + b) % 2 ** 32\n",
    "    constantes_h[2] = (constantes_h[2] + c) % 2 ** 32\n",
    "    constantes_h[3] = (constantes_h[3] + d) % 2 ** 32\n",
    "    constantes_h[4] = (constantes_h[4] + e) % 2 ** 32\n",
    "    constantes_h[5] = (constantes_h[5] + f) % 2 ** 32\n",
    "    constantes_h[6] = (constantes_h[6] + g) % 2 ** 32\n",
    "    constantes_h[7] = (constantes_h[7] + h) % 2 ** 32\n",
    "\n",
    "display(constantes_h)\n"
   ]
  },
  {
   "cell_type": "code",
   "execution_count": 44,
   "metadata": {},
   "outputs": [
    {
     "data": {
      "text/plain": [
       "'248d6a61d20638b8e5c026930c3e6039a33ce45964ff2167f6ecedd419db06c1'"
      ]
     },
     "execution_count": 44,
     "metadata": {},
     "output_type": "execute_result"
    }
   ],
   "source": [
    "\"\".join(f\"{word:08x}\" for word in constantes_h)"
   ]
  },
  {
   "cell_type": "code",
   "execution_count": 45,
   "metadata": {},
   "outputs": [],
   "source": [
    "def sha256(mensagem, mensagem_binario=\"\"):\n",
    "\n",
    "    if mensagem_binario == \"\":\n",
    "        mensagem_binario, nb = mensagem_para_binario(mensagem)\n",
    "    else:\n",
    "\n",
    "        if len(mensagem_binario) % 512 != 0:\n",
    "            raise ValueError(\"A mensagem binaria deve conter um número de caracteres multiplo de 512\")\n",
    "\n",
    "        nb = len(mensagem_binario) // 512\n",
    "    \n",
    "    words = gerar_words(mensagem_binario, nb)\n",
    "\n",
    "    primos = np.array(list(primerange(1, 1000))[:64], \n",
    "                  dtype=int)\n",
    "    \n",
    "    constantes_h = []\n",
    "    constantes_k = []\n",
    "    for i, primo in enumerate(primos):\n",
    "        parte_um = np.sqrt(primo) - int(np.sqrt(primo))\n",
    "        parte_dois = parte_um * 2 ** 32\n",
    "        parte_tres = int(parte_dois)\n",
    "\n",
    "        if i < 8:\n",
    "            # print(f\"{parte_tres:08x}\")\n",
    "            constantes_h.append(parte_tres)\n",
    "            # continue\n",
    "\n",
    "        # break\n",
    "        parte_um = np.cbrt(primo) - int(np.cbrt(primo))\n",
    "        parte_dois = parte_um * 2 ** 32\n",
    "        parte_tres = int(parte_dois)\n",
    "        constantes_k.append(parte_tres)\n",
    "\n",
    "    for i in range(nb):\n",
    "        a = constantes_h[0]\n",
    "        b = constantes_h[1]\n",
    "        c = constantes_h[2]\n",
    "        d = constantes_h[3]\n",
    "        e = constantes_h[4]\n",
    "        f = constantes_h[5]\n",
    "        g = constantes_h[6]\n",
    "        h = constantes_h[7]\n",
    "\n",
    "        for j in range(64):\n",
    "\n",
    "            ch = funcao_ch(e, f, g)\n",
    "            maj = funcao_maj(a, b, c)\n",
    "            s0 = funcao_s0(a)\n",
    "            s1 = funcao_s1(e)\n",
    "\n",
    "            t1 = (h + s1 + ch + constantes_k[j] + words[i, j]) % 2 ** 32\n",
    "            t2 = (s0 + maj) % 2 ** 32\n",
    "\n",
    "            h = g\n",
    "            g = f\n",
    "            f = e\n",
    "            e = (d + t1) % 2 ** 32\n",
    "            d = c\n",
    "            c = b\n",
    "            b = a\n",
    "            a = (t1 + t2) % 2 ** 32\n",
    "        \n",
    "        constantes_h[0] = (constantes_h[0] + a) % 2 ** 32\n",
    "        constantes_h[1] = (constantes_h[1] + b) % 2 ** 32\n",
    "        constantes_h[2] = (constantes_h[2] + c) % 2 ** 32\n",
    "        constantes_h[3] = (constantes_h[3] + d) % 2 ** 32\n",
    "        constantes_h[4] = (constantes_h[4] + e) % 2 ** 32\n",
    "        constantes_h[5] = (constantes_h[5] + f) % 2 ** 32\n",
    "        constantes_h[6] = (constantes_h[6] + g) % 2 ** 32\n",
    "        constantes_h[7] = (constantes_h[7] + h) % 2 ** 32\n",
    "\n",
    "    return \"\".join(f\"{word:08x}\" for word in constantes_h)"
   ]
  },
  {
   "cell_type": "code",
   "execution_count": 46,
   "metadata": {},
   "outputs": [
    {
     "data": {
      "text/plain": [
       "'ba7816bf8f01cfea414140de5dae2223b00361a396177a9cb410ff61f20015ad'"
      ]
     },
     "execution_count": 46,
     "metadata": {},
     "output_type": "execute_result"
    }
   ],
   "source": [
    "sha256(\"abc\")"
   ]
  },
  {
   "cell_type": "code",
   "execution_count": 47,
   "metadata": {},
   "outputs": [
    {
     "data": {
      "text/plain": [
       "'248d6a61d20638b8e5c026930c3e6039a33ce45964ff2167f6ecedd419db06c1'"
      ]
     },
     "execution_count": 47,
     "metadata": {},
     "output_type": "execute_result"
    }
   ],
   "source": [
    "sha256(\"abcdbcdecdefdefgefghfghighijhijkijkljklmklmnlmnomnopnopq\")"
   ]
  },
  {
   "cell_type": "code",
   "execution_count": 48,
   "metadata": {},
   "outputs": [],
   "source": [
    "transacoes = [\n",
    "    \"Alice paga 5 bitcoins para Bob\",\n",
    "    \"Bob paga 3 bitcoins para Carol\",\n",
    "    \"Carol paga 1 bitcoin para Alice\",\n",
    "    \"Alice paga 2 bitcoins para Bob\",\n",
    "    \"Bob paga 4 bitcoins para Carol\",\n",
    "]"
   ]
  },
  {
   "cell_type": "code",
   "execution_count": 49,
   "metadata": {},
   "outputs": [
    {
     "data": {
      "text/plain": [
       "['Alice paga 5 bitcoins para Bob',\n",
       " 'Bob paga 3 bitcoins para Carol',\n",
       " 'Carol paga 1 bitcoin para Alice',\n",
       " 'Alice paga 2 bitcoins para Bob',\n",
       " 'Bob paga 4 bitcoins para Carol',\n",
       " 'Bob paga 4 bitcoins para Carol']"
      ]
     },
     "execution_count": 49,
     "metadata": {},
     "output_type": "execute_result"
    }
   ],
   "source": [
    "if len(transacoes) % 2 != 0:\n",
    "    transacoes.append(transacoes[-1])\n",
    "\n",
    "transacoes"
   ]
  },
  {
   "cell_type": "code",
   "execution_count": 50,
   "metadata": {},
   "outputs": [
    {
     "name": "stdout",
     "output_type": "stream",
     "text": [
      "c87a0bc7703ce549baaebde2df87217f637c878dd2b4f26b51e18230d481c068\n",
      "e3433713c693c0aaaab8e58813f989b4effd3475a5148eb2e7a03a024f21d71e\n",
      "42bf14e5caa750b61be231babc439e41ada94ddc9bc7e3c6dc9d5ebcfb584c9d\n",
      "e0e27682ebd9d4f181835b992300a487f7349530b723c0eabeb7103ab51d3cee\n",
      "deab944cce03e0ac72a17eb18af897495b1df318f6368fa221f74287da04783e\n",
      "deab944cce03e0ac72a17eb18af897495b1df318f6368fa221f74287da04783e\n"
     ]
    }
   ],
   "source": [
    "hashes_transacoes = []\n",
    "\n",
    "for transacao in transacoes:\n",
    "    tx_id = sha256(transacao)\n",
    "    hashes_transacoes.append(tx_id)\n",
    "\n",
    "print(*hashes_transacoes, sep= \"\\n\")"
   ]
  },
  {
   "cell_type": "code",
   "execution_count": 51,
   "metadata": {},
   "outputs": [],
   "source": [
    "from copy import deepcopy"
   ]
  },
  {
   "cell_type": "code",
   "execution_count": 55,
   "metadata": {},
   "outputs": [
    {
     "data": {
      "text/plain": [
       "['517b7d7df2bd00a0892ea438bbfec395bb06a75805ca976c02f0abdb4b5b97e6']"
      ]
     },
     "execution_count": 55,
     "metadata": {},
     "output_type": "execute_result"
    }
   ],
   "source": [
    "nivel_anterior = deepcopy(hashes_transacoes)\n",
    "nivel_atual = []\n",
    "passo = 2\n",
    "\n",
    "while len(nivel_anterior) > 1:\n",
    "    \n",
    "    i = 0\n",
    "    j = i + passo\n",
    "    \n",
    "    if len(nivel_anterior) % 2 != 0:\n",
    "        nivel_anterior.append(nivel_anterior[-1])\n",
    "\n",
    "    while j <= len(nivel_anterior):\n",
    "        tx_id_um, tx_id_dois = nivel_anterior[i:j]\n",
    "        hash_um_binario = f\"{int(tx_id_um, 16):0256b}\"\n",
    "        hash_dois_binario = f\"{int(tx_id_dois, 16):0256b}\"\n",
    "\n",
    "        binario_concatenado = f\"{hash_um_binario}{hash_dois_binario}\"\n",
    "        novo_hash = sha256(mensagem=\"\", mensagem_binario=binario_concatenado)\n",
    "        nivel_atual.append(novo_hash)\n",
    "\n",
    "        i = j\n",
    "        j = i + passo\n",
    "    \n",
    "    nivel_anterior = deepcopy(nivel_atual)\n",
    "    nivel_atual = []\n",
    "\n",
    "nivel_anterior"
   ]
  },
  {
   "cell_type": "code",
   "execution_count": 56,
   "metadata": {},
   "outputs": [],
   "source": [
    "def arvore_merkle(transacoes):\n",
    "\n",
    "    hashes_transacoes = []\n",
    "    for transacao in transacoes:\n",
    "        tx_id = sha256(transacao)\n",
    "        hashes_transacoes.append(tx_id)\n",
    "    \n",
    "    nivel_anterior = deepcopy(hashes_transacoes)\n",
    "    nivel_atual = []\n",
    "    passo = 2\n",
    "\n",
    "    while len(nivel_anterior) > 1:\n",
    "\n",
    "        i = 0\n",
    "        j = i + passo\n",
    "\n",
    "        if len(nivel_anterior) % 2 != 0:\n",
    "            nivel_anterior.append(nivel_anterior[-1])\n",
    "        \n",
    "        while j <= len(nivel_anterior):\n",
    "            tx_id_um, tx_id_dois = nivel_anterior[i:j]\n",
    "            \n",
    "            hash_um_binario = f\"{int(tx_id_um, 16):0256b}\"\n",
    "            hash_dois_binario = f\"{int(tx_id_dois, 16):0256b}\"\n",
    "\n",
    "            binario_concatenado = f\"{hash_um_binario}{hash_dois_binario}\"\n",
    "            novo_hash = sha256(mensagem=\"\",\n",
    "                            mensagem_binario=binario_concatenado)\n",
    "            nivel_atual.append(novo_hash)\n",
    "\n",
    "            i = j\n",
    "            j = i + passo\n",
    "        \n",
    "        nivel_anterior = deepcopy(nivel_atual)\n",
    "        nivel_atual = []\n",
    "\n",
    "    return nivel_anterior"
   ]
  },
  {
   "cell_type": "code",
   "execution_count": 57,
   "metadata": {},
   "outputs": [
    {
     "data": {
      "text/plain": [
       "['517b7d7df2bd00a0892ea438bbfec395bb06a75805ca976c02f0abdb4b5b97e6']"
      ]
     },
     "execution_count": 57,
     "metadata": {},
     "output_type": "execute_result"
    }
   ],
   "source": [
    "arvore_merkle(transacoes)"
   ]
  }
 ],
 "metadata": {
  "kernelspec": {
   "display_name": "venv",
   "language": "python",
   "name": "python3"
  },
  "language_info": {
   "codemirror_mode": {
    "name": "ipython",
    "version": 3
   },
   "file_extension": ".py",
   "mimetype": "text/x-python",
   "name": "python",
   "nbconvert_exporter": "python",
   "pygments_lexer": "ipython3",
   "version": "3.13.1"
  }
 },
 "nbformat": 4,
 "nbformat_minor": 2
}
